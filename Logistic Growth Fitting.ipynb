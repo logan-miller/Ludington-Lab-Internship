{
 "cells": [
  {
   "cell_type": "markdown",
   "id": "4eb2c790",
   "metadata": {},
   "source": [
    "# Logistic Growth Fitting"
   ]
  },
  {
   "cell_type": "code",
   "execution_count": 2,
   "id": "9b9e4551",
   "metadata": {},
   "outputs": [],
   "source": [
    "import numpy as np\n",
    "import random\n",
    "import math\n",
    "from scipy.optimize import curve_fit\n",
    "import matplotlib.pyplot as plt\n",
    "import pandas as pd\n",
    "import seaborn as sns"
   ]
  },
  {
   "cell_type": "code",
   "execution_count": 3,
   "id": "b6d6feb6",
   "metadata": {},
   "outputs": [],
   "source": [
    "def logistic(x, L, k, x_0):\n",
    "    f = L / (1 + np.exp(-k * (x - x_0)))\n",
    "    return f"
   ]
  },
  {
   "cell_type": "code",
   "execution_count": 10,
   "id": "6319df3b",
   "metadata": {},
   "outputs": [
    {
     "name": "stdout",
     "output_type": "stream",
     "text": [
      "[3, 4, 5, 6, 7, 8, 15, 16, 17, 18, 19, 20, 27, 28, 29, 30, 31, 32, 39, 40, 41, 42, 43, 44, 51, 52, 53, 54, 55, 56, 63, 64, 65, 66, 67, 68, 75, 76, 77, 78, 79, 80, 87, 88, 89, 90, 91, 92]\n"
     ]
    }
   ],
   "source": [
    "mrs_cols = []\n",
    "for i in range(0, 96, 12):\n",
    "    for j in range (6):\n",
    "        mrs_cols.append(j + i + 3)\n",
    "data = pd.read_excel(\"6_species_gc_2_15.xlsx\", usecols=mrs_cols, skiprows=range(57), numrows=578)"
   ]
  },
  {
   "cell_type": "code",
   "execution_count": null,
   "id": "1c455a58",
   "metadata": {},
   "outputs": [],
   "source": []
  }
 ],
 "metadata": {
  "kernelspec": {
   "display_name": "Python 3 (ipykernel)",
   "language": "python",
   "name": "python3"
  },
  "language_info": {
   "codemirror_mode": {
    "name": "ipython",
    "version": 3
   },
   "file_extension": ".py",
   "mimetype": "text/x-python",
   "name": "python",
   "nbconvert_exporter": "python",
   "pygments_lexer": "ipython3",
   "version": "3.9.13"
  }
 },
 "nbformat": 4,
 "nbformat_minor": 5
}
